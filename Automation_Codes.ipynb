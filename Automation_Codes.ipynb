{
  "nbformat": 4,
  "nbformat_minor": 0,
  "metadata": {
    "colab": {
      "provenance": [],
      "authorship_tag": "ABX9TyOMcw3V1qcnith5PtYDEG4s",
      "include_colab_link": true
    },
    "kernelspec": {
      "name": "python3",
      "display_name": "Python 3"
    },
    "language_info": {
      "name": "python"
    }
  },
  "cells": [
    {
      "cell_type": "markdown",
      "metadata": {
        "id": "view-in-github",
        "colab_type": "text"
      },
      "source": [
        "<a href=\"https://colab.research.google.com/github/sidtomar/PyCodes/blob/main/Automation_Codes.ipynb\" target=\"_parent\"><img src=\"https://colab.research.google.com/assets/colab-badge.svg\" alt=\"Open In Colab\"/></a>"
      ]
    },
    {
      "cell_type": "code",
      "execution_count": 4,
      "metadata": {
        "colab": {
          "base_uri": "https://localhost:8080/"
        },
        "id": "08nsXplxGDCk",
        "outputId": "c78cb1f3-8d71-4996-9e2f-55367d9b6d8e"
      },
      "outputs": [
        {
          "output_type": "stream",
          "name": "stdout",
          "text": [
            "I am thinkking of a secret number:\n",
            "Take a guess \n",
            "13\n",
            "Your guess is too low, try again\n",
            "Take a guess \n",
            "17\n",
            "Your guess is too low, try again\n",
            "Take a guess \n",
            "22\n",
            "Your guess is too high, try now\n",
            "Take a guess \n",
            "20\n",
            "Congratulations..You guessed my nuumber in 4 try! this is: 20\n"
          ]
        }
      ],
      "source": [
        "import random\n",
        "SecretNumber=random.randint(1,30)\n",
        "print(\"I am thinkking of a secret number:\")\n",
        "for guessTaken in range(1,7):\n",
        "  print(\"Take a guess \")\n",
        "  guess=int(input())\n",
        "  if guess<SecretNumber:\n",
        "    print(\"Your guess is too low, try again\");\n",
        "  elif guess>SecretNumber:\n",
        "    print(\"Your guess is too high, try now\")\n",
        "  else:\n",
        "    break;\n",
        "    print(\"Congratulations..You guessed it correct\")\n",
        "if guess==SecretNumber:\n",
        "   print(\"Congratulations..You guessed my nuumber in \" + str(guessTaken) +' try!',\"this is:\",str(SecretNumber)  )\n",
        "else:\n",
        "  print(\"Nope , the number i was thinking of is: \" + str(SecretNumber))\n",
        "\n",
        "   \n",
        "\n",
        "    \n"
      ]
    },
    {
      "cell_type": "code",
      "source": [],
      "metadata": {
        "id": "hqDnqFzfNRmT"
      },
      "execution_count": null,
      "outputs": []
    }
  ]
}